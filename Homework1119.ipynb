{
 "cells": [
  {
   "cell_type": "code",
   "execution_count": 2,
   "id": "fceff73d",
   "metadata": {},
   "outputs": [],
   "source": [
    "import turtle\n",
    "def polygon(n):\n",
    "    t = turtle.Turtle()\n",
    "    t.speed(5) # 1:slowest, 3:slow, 5:normal, 10:fast, 0:fastest\n",
    "    for i in range(n):\n",
    "        t.forward(60)\n",
    "        t.right(360/n)"
   ]
  },
  {
   "cell_type": "code",
   "execution_count": 3,
   "id": "656798c5",
   "metadata": {},
   "outputs": [],
   "source": [
    "polygon(6)"
   ]
  },
  {
   "cell_type": "code",
   "execution_count": null,
   "id": "fba093c0",
   "metadata": {},
   "outputs": [],
   "source": []
  }
 ],
 "metadata": {
  "kernelspec": {
   "display_name": "Python 3 (ipykernel)",
   "language": "python",
   "name": "python3"
  },
  "language_info": {
   "codemirror_mode": {
    "name": "ipython",
    "version": 3
   },
   "file_extension": ".py",
   "mimetype": "text/x-python",
   "name": "python",
   "nbconvert_exporter": "python",
   "pygments_lexer": "ipython3",
   "version": "3.10.8"
  }
 },
 "nbformat": 4,
 "nbformat_minor": 5
}
