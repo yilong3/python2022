{
 "cells": [
  {
   "cell_type": "code",
   "execution_count": 1,
   "id": "78b87a6d",
   "metadata": {},
   "outputs": [],
   "source": [
    "def listFilter(mylist, n):\n",
    "    d = []\n",
    "    for a in mylist:\n",
    "        if a > n :\n",
    "            d.append(a)\n",
    "    return d"
   ]
  },
  {
   "cell_type": "code",
   "execution_count": 2,
   "id": "cd9c8866",
   "metadata": {},
   "outputs": [],
   "source": [
    "mylist = [1,3,4,6,7,8,9]"
   ]
  },
  {
   "cell_type": "code",
   "execution_count": 3,
   "id": "f6d702d3",
   "metadata": {},
   "outputs": [
    {
     "data": {
      "text/plain": [
       "[4, 6, 7, 8, 9]"
      ]
     },
     "execution_count": 3,
     "metadata": {},
     "output_type": "execute_result"
    }
   ],
   "source": [
    "listFilter(mylist,3)"
   ]
  },
  {
   "cell_type": "code",
   "execution_count": 4,
   "id": "90f075fd",
   "metadata": {},
   "outputs": [],
   "source": [
    "def listSkipOddIndex(mylist):\n",
    "    d = []\n",
    "    for i in range(len(mylist)):\n",
    "        if i % 2 == 0:\n",
    "            d.append(mylist[i])\n",
    "    return d"
   ]
  },
  {
   "cell_type": "code",
   "execution_count": 5,
   "id": "50c34e9a",
   "metadata": {},
   "outputs": [
    {
     "data": {
      "text/plain": [
       "[1, 4, 7, 9]"
      ]
     },
     "execution_count": 5,
     "metadata": {},
     "output_type": "execute_result"
    }
   ],
   "source": [
    "listSkipOddIndex(mylist)"
   ]
  },
  {
   "cell_type": "code",
   "execution_count": 6,
   "id": "74d1a3e7",
   "metadata": {},
   "outputs": [],
   "source": [
    "def listSkipOddValue(mylist):\n",
    "    d = []\n",
    "    for a in mylist:\n",
    "        if a % 2 == 0:\n",
    "            d.append(a)\n",
    "    return d"
   ]
  },
  {
   "cell_type": "code",
   "execution_count": 7,
   "id": "969fbdd3",
   "metadata": {},
   "outputs": [
    {
     "data": {
      "text/plain": [
       "[4, 6, 8]"
      ]
     },
     "execution_count": 7,
     "metadata": {},
     "output_type": "execute_result"
    }
   ],
   "source": [
    "listSkipOddValue(mylist)"
   ]
  },
  {
   "cell_type": "code",
   "execution_count": null,
   "id": "266fabb5",
   "metadata": {},
   "outputs": [],
   "source": []
  }
 ],
 "metadata": {
  "kernelspec": {
   "display_name": "Python 3 (ipykernel)",
   "language": "python",
   "name": "python3"
  },
  "language_info": {
   "codemirror_mode": {
    "name": "ipython",
    "version": 3
   },
   "file_extension": ".py",
   "mimetype": "text/x-python",
   "name": "python",
   "nbconvert_exporter": "python",
   "pygments_lexer": "ipython3",
   "version": "3.10.11"
  }
 },
 "nbformat": 4,
 "nbformat_minor": 5
}
