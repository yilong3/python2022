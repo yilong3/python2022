{
 "cells": [
  {
   "cell_type": "code",
   "execution_count": 3,
   "id": "2f877f52",
   "metadata": {},
   "outputs": [
    {
     "name": "stdout",
     "output_type": "stream",
     "text": [
      "How much did the dinner cost? 28.69\n",
      "What is the percentage for the tip? 0.15\n",
      "Your tip is 4.3035\n"
     ]
    }
   ],
   "source": [
    "cost=float(input('How much did the dinner cost? '))\n",
    "percent=float(input('What is the percentage for the tip? '))\n",
    "tip=cost*percent\n",
    "print('Your tip is', tip)"
   ]
  },
  {
   "cell_type": "code",
   "execution_count": null,
   "id": "b9f39116",
   "metadata": {},
   "outputs": [],
   "source": []
  }
 ],
 "metadata": {
  "kernelspec": {
   "display_name": "Python 3 (ipykernel)",
   "language": "python",
   "name": "python3"
  },
  "language_info": {
   "codemirror_mode": {
    "name": "ipython",
    "version": 3
   },
   "file_extension": ".py",
   "mimetype": "text/x-python",
   "name": "python",
   "nbconvert_exporter": "python",
   "pygments_lexer": "ipython3",
   "version": "3.10.7"
  }
 },
 "nbformat": 4,
 "nbformat_minor": 5
}
