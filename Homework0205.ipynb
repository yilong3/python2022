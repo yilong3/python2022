{
 "cells": [
  {
   "cell_type": "code",
   "execution_count": 5,
   "id": "ed2b41cb",
   "metadata": {},
   "outputs": [],
   "source": [
    "def findPencil(s, a):\n",
    "    idx = 0\n",
    "    for c in s:\n",
    "        idx = idx + 1\n",
    "        if c==a:\n",
    "            return(idx)\n",
    "    return (-1)"
   ]
  },
  {
   "cell_type": "code",
   "execution_count": 6,
   "id": "7d9354ee",
   "metadata": {},
   "outputs": [
    {
     "name": "stdout",
     "output_type": "stream",
     "text": [
      "-1\n"
     ]
    }
   ],
   "source": [
    "s='awhjeflwaheglawhrge'\n",
    "a='b'\n",
    "print(findPencil(s,a))\n"
   ]
  },
  {
   "cell_type": "code",
   "execution_count": 7,
   "id": "9c9c00ca",
   "metadata": {},
   "outputs": [
    {
     "name": "stdout",
     "output_type": "stream",
     "text": [
      "7\n"
     ]
    }
   ],
   "source": [
    "a='l'\n",
    "print(findPencil(s,a))"
   ]
  },
  {
   "cell_type": "code",
   "execution_count": null,
   "id": "a048745a",
   "metadata": {},
   "outputs": [],
   "source": []
  }
 ],
 "metadata": {
  "kernelspec": {
   "display_name": "Python 3 (ipykernel)",
   "language": "python",
   "name": "python3"
  },
  "language_info": {
   "codemirror_mode": {
    "name": "ipython",
    "version": 3
   },
   "file_extension": ".py",
   "mimetype": "text/x-python",
   "name": "python",
   "nbconvert_exporter": "python",
   "pygments_lexer": "ipython3",
   "version": "3.10.10"
  }
 },
 "nbformat": 4,
 "nbformat_minor": 5
}
