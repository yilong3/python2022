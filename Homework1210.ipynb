{
 "cells": [
  {
   "cell_type": "code",
   "execution_count": 1,
   "id": "b4f1c91e",
   "metadata": {},
   "outputs": [],
   "source": [
    "import turtle\n",
    "t = turtle.Turtle()\n",
    "t.speed(0) # 1:slowest, 3:slow, 5:normal, 10:fast, 0:fastest\n",
    "def drawShape(n, r):\n",
    "  for i in range(n):\n",
    "    t.circle(r)\n",
    "    t.right(360.0/n)"
   ]
  },
  {
   "cell_type": "code",
   "execution_count": 2,
   "id": "256ceea7",
   "metadata": {},
   "outputs": [],
   "source": [
    "drawShape(100,120)"
   ]
  },
  {
   "cell_type": "code",
   "execution_count": null,
   "id": "13adb9b1",
   "metadata": {},
   "outputs": [],
   "source": []
  }
 ],
 "metadata": {
  "kernelspec": {
   "display_name": "Python 3 (ipykernel)",
   "language": "python",
   "name": "python3"
  },
  "language_info": {
   "codemirror_mode": {
    "name": "ipython",
    "version": 3
   },
   "file_extension": ".py",
   "mimetype": "text/x-python",
   "name": "python",
   "nbconvert_exporter": "python",
   "pygments_lexer": "ipython3",
   "version": "3.10.9"
  }
 },
 "nbformat": 4,
 "nbformat_minor": 5
}
