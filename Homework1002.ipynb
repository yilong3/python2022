{
 "cells": [
  {
   "cell_type": "code",
   "execution_count": 2,
   "id": "d0c36c61",
   "metadata": {},
   "outputs": [
    {
     "name": "stdout",
     "output_type": "stream",
     "text": [
      "What is the length of the rectangle? 15.8\n",
      "What is the width of the rectangle? 6.9\n",
      "The area is 109.02000000000001\n"
     ]
    }
   ],
   "source": [
    "length=float(input('What is the length of the rectangle? '))\n",
    "width=float(input('What is the width of the rectangle? '))\n",
    "area=length*width\n",
    "print('The area is',area)"
   ]
  },
  {
   "cell_type": "code",
   "execution_count": null,
   "id": "f6cc7ab6",
   "metadata": {},
   "outputs": [],
   "source": []
  }
 ],
 "metadata": {
  "kernelspec": {
   "display_name": "Python 3 (ipykernel)",
   "language": "python",
   "name": "python3"
  },
  "language_info": {
   "codemirror_mode": {
    "name": "ipython",
    "version": 3
   },
   "file_extension": ".py",
   "mimetype": "text/x-python",
   "name": "python",
   "nbconvert_exporter": "python",
   "pygments_lexer": "ipython3",
   "version": "3.10.7"
  }
 },
 "nbformat": 4,
 "nbformat_minor": 5
}
