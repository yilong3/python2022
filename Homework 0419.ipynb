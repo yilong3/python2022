{
 "cells": [
  {
   "cell_type": "code",
   "execution_count": 1,
   "id": "c911509d",
   "metadata": {},
   "outputs": [],
   "source": [
    "def histogram(s):\n",
    "    d={}\n",
    "    for a in s:\n",
    "        if a in d:\n",
    "            d[a] += 1\n",
    "        else:\n",
    "            d[a] = 1\n",
    "    return d"
   ]
  },
  {
   "cell_type": "code",
   "execution_count": 3,
   "id": "a75a7a5b",
   "metadata": {},
   "outputs": [],
   "source": [
    "h=histogram(\"banana\")"
   ]
  },
  {
   "cell_type": "code",
   "execution_count": 4,
   "id": "41312264",
   "metadata": {},
   "outputs": [
    {
     "data": {
      "text/plain": [
       "3"
      ]
     },
     "execution_count": 4,
     "metadata": {},
     "output_type": "execute_result"
    }
   ],
   "source": [
    "h['a']"
   ]
  },
  {
   "cell_type": "code",
   "execution_count": 5,
   "id": "f86d69f5",
   "metadata": {},
   "outputs": [],
   "source": [
    "myList=[\"123\",\"abc\",\"akhr\",\"123\",\"123\",\"abc\"]"
   ]
  },
  {
   "cell_type": "code",
   "execution_count": 6,
   "id": "e94725b4",
   "metadata": {},
   "outputs": [],
   "source": [
    "hi = histogram(myList)"
   ]
  },
  {
   "cell_type": "code",
   "execution_count": 7,
   "id": "b36dc14a",
   "metadata": {},
   "outputs": [
    {
     "name": "stdout",
     "output_type": "stream",
     "text": [
      "{'123': 3, 'abc': 2, 'akhr': 1}\n"
     ]
    }
   ],
   "source": [
    "print(hi)"
   ]
  },
  {
   "cell_type": "code",
   "execution_count": 8,
   "id": "adfc54cc",
   "metadata": {},
   "outputs": [
    {
     "data": {
      "text/plain": [
       "3"
      ]
     },
     "execution_count": 8,
     "metadata": {},
     "output_type": "execute_result"
    }
   ],
   "source": [
    "hi['123']"
   ]
  }
 ],
 "metadata": {
  "kernelspec": {
   "display_name": "Python 3 (ipykernel)",
   "language": "python",
   "name": "python3"
  },
  "language_info": {
   "codemirror_mode": {
    "name": "ipython",
    "version": 3
   },
   "file_extension": ".py",
   "mimetype": "text/x-python",
   "name": "python",
   "nbconvert_exporter": "python",
   "pygments_lexer": "ipython3",
   "version": "3.10.11"
  }
 },
 "nbformat": 4,
 "nbformat_minor": 5
}
