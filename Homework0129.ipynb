{
 "cells": [
  {
   "cell_type": "code",
   "execution_count": 1,
   "id": "aa24e13f",
   "metadata": {},
   "outputs": [],
   "source": [
    "def findPencil(s, a):\n",
    "    counter = 0\n",
    "    for c in s:\n",
    "        if c==a:\n",
    "            counter = counter+1\n",
    "    return counter\n"
   ]
  },
  {
   "cell_type": "code",
   "execution_count": 2,
   "id": "3758b74e",
   "metadata": {},
   "outputs": [
    {
     "name": "stdout",
     "output_type": "stream",
     "text": [
      "2\n"
     ]
    }
   ],
   "source": [
    "s = 'aiwhefolhwvn;awerhg'\n",
    "n = findPencil(s, 'a')\n",
    "print(n)"
   ]
  },
  {
   "cell_type": "code",
   "execution_count": 3,
   "id": "928f3e5a",
   "metadata": {},
   "outputs": [
    {
     "name": "stdout",
     "output_type": "stream",
     "text": [
      "2\n"
     ]
    }
   ],
   "source": [
    "t = 'balloon'\n",
    "print(findPencil(t,'o'))"
   ]
  },
  {
   "cell_type": "code",
   "execution_count": null,
   "id": "4edc3db1",
   "metadata": {},
   "outputs": [],
   "source": []
  }
 ],
 "metadata": {
  "kernelspec": {
   "display_name": "Python 3 (ipykernel)",
   "language": "python",
   "name": "python3"
  },
  "language_info": {
   "codemirror_mode": {
    "name": "ipython",
    "version": 3
   },
   "file_extension": ".py",
   "mimetype": "text/x-python",
   "name": "python",
   "nbconvert_exporter": "python",
   "pygments_lexer": "ipython3",
   "version": "3.10.9"
  }
 },
 "nbformat": 4,
 "nbformat_minor": 5
}
