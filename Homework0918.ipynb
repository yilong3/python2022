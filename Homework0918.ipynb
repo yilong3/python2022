{
 "cells": [
  {
   "cell_type": "code",
   "execution_count": 4,
   "id": "24d199c7",
   "metadata": {},
   "outputs": [
    {
     "name": "stdout",
     "output_type": "stream",
     "text": [
      "What is your name? Erica\n",
      "Nice to see you Erica !\n"
     ]
    }
   ],
   "source": [
    "name=input('What is your name? ')\n",
    "print('Nice to see you', name,'!')"
   ]
  },
  {
   "cell_type": "code",
   "execution_count": 5,
   "id": "730dd983",
   "metadata": {},
   "outputs": [
    {
     "name": "stdout",
     "output_type": "stream",
     "text": [
      "How was your day? good\n",
      "I also feel good .\n"
     ]
    }
   ],
   "source": [
    "day = input('How was your day? ')\n",
    "print('I also feel', day,'.')"
   ]
  },
  {
   "cell_type": "code",
   "execution_count": 7,
   "id": "5aae5da9",
   "metadata": {},
   "outputs": [
    {
     "name": "stdout",
     "output_type": "stream",
     "text": [
      "How old are you? 9\n",
      "I am 18 years old.\n"
     ]
    }
   ],
   "source": [
    "age=input('How old are you? ')\n",
    "print('I am', 2*int(age), 'years old.')"
   ]
  },
  {
   "cell_type": "code",
   "execution_count": null,
   "id": "a81a91aa",
   "metadata": {},
   "outputs": [],
   "source": []
  }
 ],
 "metadata": {
  "kernelspec": {
   "display_name": "Python 3 (ipykernel)",
   "language": "python",
   "name": "python3"
  },
  "language_info": {
   "codemirror_mode": {
    "name": "ipython",
    "version": 3
   },
   "file_extension": ".py",
   "mimetype": "text/x-python",
   "name": "python",
   "nbconvert_exporter": "python",
   "pygments_lexer": "ipython3",
   "version": "3.10.7"
  }
 },
 "nbformat": 4,
 "nbformat_minor": 5
}
